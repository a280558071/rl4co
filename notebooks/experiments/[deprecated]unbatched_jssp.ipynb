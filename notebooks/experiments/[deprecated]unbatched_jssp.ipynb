{
 "cells": [
  {
   "cell_type": "markdown",
   "source": [
    "# Tests on the JSSP"
   ],
   "metadata": {
    "collapsed": false
   },
   "id": "bf32bb4a17ac110a"
  },
  {
   "cell_type": "markdown",
   "source": [
    "## Imports"
   ],
   "metadata": {
    "collapsed": false
   },
   "id": "c09ce06456e8b120"
  },
  {
   "cell_type": "code",
   "outputs": [],
   "source": [
    "import torch\n",
    "from tensordict import TensorDict\n",
    "from rl4co.envs.scheduling.jssp import JSSPEnv"
   ],
   "metadata": {
    "collapsed": false,
    "ExecuteTime": {
     "end_time": "2024-02-12T10:54:05.420656648Z",
     "start_time": "2024-02-12T10:54:02.088705927Z"
    }
   },
   "id": "64a468fadfb58d84",
   "execution_count": 1
  },
  {
   "cell_type": "markdown",
   "source": [
    "Test the JSSP on the OR-tools instance: https://developers.google.com/optimization/scheduling/job_shop\n"
   ],
   "metadata": {
    "collapsed": false
   },
   "id": "18c1cd1b1d512f88"
  },
  {
   "cell_type": "code",
   "outputs": [],
   "source": [
    "low = 1\n",
    "high = 99\n",
    "n_j = 3\n",
    "n_m = 3\n",
    "torch.manual_seed(8)\n",
    "env = JSSPEnv(n_j, n_m)\n",
    "durations = torch.tensor([[3, 2, 2], [2, 1, 4], [4, 3, 0]], dtype=torch.float32)\n",
    "machines = torch.tensor([[1, 2, 3], [1, 3, 2], [2, 3, 1]], dtype=torch.int32)\n",
    "data = TensorDict(\n",
    "    {\"durations\": durations.unsqueeze(0), \"machines\": machines.unsqueeze(0)},\n",
    "    batch_size=1,\n",
    ")\n",
    "ortools_sol = [0, 1, 2, 0, 1, 1, 0, 2, 2]\n",
    "env.reset(data)\n",
    "total_reward = 0\n",
    "for action in ortools_sol:\n",
    "    data[\"action\"] = torch.tensor([action], dtype=torch.long)\n",
    "    td = env._step(data)\n",
    "    total_reward += td[\"reward\"].item()\n",
    "\n",
    "# env.render()\n",
    "make_span = env.initial_quality - total_reward\n",
    "assert make_span.item() == 11"
   ],
   "metadata": {
    "collapsed": false,
    "ExecuteTime": {
     "end_time": "2024-02-12T10:54:05.465987753Z",
     "start_time": "2024-02-12T10:54:05.427297201Z"
    }
   },
   "id": "5076924b5b09bc6a",
   "execution_count": 2
  },
  {
   "cell_type": "markdown",
   "source": [
    "## Test with parallel envs"
   ],
   "metadata": {
    "collapsed": false
   },
   "id": "d94bd6bd3d57452a"
  },
  {
   "cell_type": "code",
   "outputs": [],
   "source": [
    "from torchrl.envs.vec_envs import ParallelEnv\n",
    "envs = ParallelEnv(2, lambda: JSSPEnv(3, 3, _torchrl_mode=True))\n",
    "td = envs.reset()\n",
    "td[\"action\"] = torch.tensor([[0], [1]])\n",
    "td = envs.step(td)\n",
    "\n",
    "assert torch.allclose(td[\"next\"][\"feasible_actions\"], torch.tensor([[[1, 3, 6]], [[0, 4, 6]]]))\n",
    "\n",
    "td[\"action\"] = torch.tensor([[0], [1]])\n",
    "td = envs.step(td)\n",
    "assert torch.allclose(td[\"next\"][\"feasible_actions\"], torch.tensor([[[2, 3, 6]], [[0, 5, 6]]]))"
   ],
   "metadata": {
    "collapsed": false,
    "ExecuteTime": {
     "end_time": "2024-02-12T10:54:09.824860670Z",
     "start_time": "2024-02-12T10:54:06.806009402Z"
    }
   },
   "id": "ccfbbadbfa49d031",
   "execution_count": 3
  }
 ],
 "metadata": {
  "kernelspec": {
   "display_name": "Python 3",
   "language": "python",
   "name": "python3"
  },
  "language_info": {
   "codemirror_mode": {
    "name": "ipython",
    "version": 2
   },
   "file_extension": ".py",
   "mimetype": "text/x-python",
   "name": "python",
   "nbconvert_exporter": "python",
   "pygments_lexer": "ipython2",
   "version": "2.7.6"
  }
 },
 "nbformat": 4,
 "nbformat_minor": 5
}
